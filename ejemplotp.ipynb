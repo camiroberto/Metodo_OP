{
 "cells": [
  {
   "cell_type": "code",
   "execution_count": 1,
   "id": "442d7210-fcd7-4eea-9885-465b08845d89",
   "metadata": {},
   "outputs": [
    {
     "name": "stdout",
     "output_type": "stream",
     "text": [
      "541\n"
     ]
    }
   ],
   "source": [
    "def enesimoprimo(n):\n",
    "  \"\"\"\n",
    "  Calcular el enésimo número primo\n",
    "\n",
    "  Args:\n",
    "    n: El número primo que busco\n",
    "\n",
    "  Returns:\n",
    "    El enésimo número primo\n",
    "  \"\"\"\n",
    "  primo = 2\n",
    "  contador = 1\n",
    "\n",
    "  while contador < n:\n",
    "    primo += 1\n",
    "    numprimo = True\n",
    "\n",
    "    for i in range(2, primo // 2 + 1):\n",
    "      if primo % i == 0:\n",
    "        numprimo = False\n",
    "        break\n",
    "    if numprimo:\n",
    "      contador += 1\n",
    "\n",
    "  return primo\n",
    "\n",
    "print(enesimoprimo(100))"
   ]
  },
  {
   "cell_type": "code",
   "execution_count": 5,
   "id": "e8cec482-8870-493d-930d-5928faa78881",
   "metadata": {},
   "outputs": [
    {
     "name": "stdout",
     "output_type": "stream",
     "text": [
      "1299709\n"
     ]
    }
   ],
   "source": [
    "def enesimoprimo(n):\n",
    "  \"\"\"\n",
    "  Calcular el enésimo número primo\n",
    "\n",
    "  Args:\n",
    "    n: El número primo que busco\n",
    "\n",
    "  Returns:\n",
    "    El enésimo número primo\n",
    "  \"\"\"\n",
    "  primo = 2\n",
    "  contador = 1\n",
    "\n",
    "  while contador < n:\n",
    "    primo += 1\n",
    "    numprimo = True\n",
    "\n",
    "    for i in range(2, primo // 2 + 1):\n",
    "      if primo % i == 0:\n",
    "        numprimo = False\n",
    "        break\n",
    "    if numprimo:\n",
    "      contador += 1\n",
    "\n",
    "  return primo\n",
    "\n",
    "print(enesimoprimo(100000))"
   ]
  },
  {
   "cell_type": "code",
   "execution_count": null,
   "id": "8ea93552-d586-42ad-8636-a5f44cb36950",
   "metadata": {},
   "outputs": [],
   "source": []
  }
 ],
 "metadata": {
  "kernelspec": {
   "display_name": "Python 3 (ipykernel)",
   "language": "python",
   "name": "python3"
  },
  "language_info": {
   "codemirror_mode": {
    "name": "ipython",
    "version": 3
   },
   "file_extension": ".py",
   "mimetype": "text/x-python",
   "name": "python",
   "nbconvert_exporter": "python",
   "pygments_lexer": "ipython3",
   "version": "3.12.4"
  }
 },
 "nbformat": 4,
 "nbformat_minor": 5
}
